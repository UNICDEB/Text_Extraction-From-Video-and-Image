{
 "cells": [
  {
   "cell_type": "markdown",
   "metadata": {},
   "source": [
    "# OCR Applications (on Image and Video)\n",
    "- Using OpenCV and Google's tesseract\n",
    "- Practitioner: Debabrata Doloi"
   ]
  },
  {
   "cell_type": "markdown",
   "metadata": {},
   "source": [
    "## 1) ON IMAGE"
   ]
  },
  {
   "cell_type": "code",
   "execution_count": 3,
   "metadata": {},
   "outputs": [],
   "source": [
    "import cv2\n",
    "import pytesseract\n",
    "\n",
    "#defining path to tesseract OCR engine command line executable\n",
    "pytesseract.pytesseract.tesseract_cmd = r\"C:\\Program Files\\Tesseract-OCR\\Tesseract.exe\""
   ]
  },
  {
   "cell_type": "markdown",
   "metadata": {},
   "source": [
    "### Thresholding\n",
    "\n",
    "i'hv used Simple Binary Thresholding and OTSU binarization\n",
    "\n",
    "*Simple Binary thresholding*: finds a threshold and set the image color white if < threshold and black if > threshold\n",
    "\n",
    "*OTSU thresholding*: automatically picks a threshold for image "
   ]
  },
  {
   "cell_type": "code",
   "execution_count": 4,
   "metadata": {},
   "outputs": [],
   "source": [
    "img=cv2.imread('sample4.jpg')                                                   #reading image\n",
    "gray_img=cv2.cvtColor(img,cv2.COLOR_BGR2GRAY)                                   #Converting to GRAY scale as\n",
    "binary_img=cv2.threshold(gray_img,0,255,cv2.THRESH_OTSU | cv2.THRESH_BINARY)[1] #Performing simple thresholding with OTSU binarization\n",
    "cv2.imshow('threshold image',binary_img)                                        #Opening binary image\n",
    "cv2.waitKey(0)                                                                  #Exit at pressing any key\n",
    "cv2.destroyAllWindows()                                                         #destroying windows"
   ]
  },
  {
   "cell_type": "markdown",
   "metadata": {},
   "source": [
    "### Custom configurations\n",
    "\n",
    "* --psm: Specify page segmentation mode.\n",
    "* --oem: Specify OCR Engine mode."
   ]
  },
  {
   "cell_type": "code",
   "execution_count": 12,
   "metadata": {},
   "outputs": [
    {
     "name": "stdout",
     "output_type": "stream",
     "text": [
      "['', '', '', '', 'This', 'is', 'SAMPLE', 'TEXT', '', 'Text', 'is', 'at', 'different', 'regions']\n"
     ]
    }
   ],
   "source": [
    "custom_config = r'--oem 3 --psm 6'                                              #Addind oem and psm to custom config\n",
    "img_info=pytesseract.image_to_data(binary_img,output_type=pytesseract.Output.DICT,config=custom_config,lang='eng')  #Getting image data from tesseract\n",
    "print(img_info['text'])                                                         #getting text info"
   ]
  },
  {
   "cell_type": "markdown",
   "metadata": {},
   "source": [
    "### Identifying text in image"
   ]
  },
  {
   "cell_type": "code",
   "execution_count": 13,
   "metadata": {},
   "outputs": [],
   "source": [
    "im=img.copy()\n",
    "total_boxes = len(img_info['text'])    #length of total no of blocks detected\n",
    "for sequence_number in range(total_boxes):                                        #Looping through blocks\n",
    "    if float(img_info['conf'][sequence_number])>30:                               #if confidence of box being text if greater than 30 (30-40 is optimal limit)\n",
    "        (x, y, w, h) = (img_info['left'][sequence_number], img_info['top'][sequence_number], img_info['width'][sequence_number],  img_info['height'][sequence_number])  #get the coordinates of confident blocks\n",
    "        im = cv2.rectangle(im, (x, y), (x + w, y + h), (0,255, 0), 2)     #Drawing a rectangle box over confident word\n",
    "cv2.imshow('identified text',im)                                         #Showing final image\n",
    "cv2.waitKey(0)                                                                   #Press any key to exit\n",
    "cv2.destroyAllWindows()                                                          #destroy windows"
   ]
  },
  {
   "cell_type": "markdown",
   "metadata": {},
   "source": [
    "### Defining Parsing function"
   ]
  },
  {
   "cell_type": "code",
   "execution_count": 14,
   "metadata": {},
   "outputs": [],
   "source": [
    "def parse(data):\n",
    "    '''Function to parse data from detected text'''\n",
    "    parsed=[]\n",
    "    last_word=''\n",
    "    for word in data:\n",
    "        if word!='':\n",
    "            parsed.append(word)\n",
    "            last_word=word\n",
    "        if last_word!='' and word=='':\n",
    "            parsed.append('\\n')\n",
    "\n",
    "    return \" \".join(parsed)"
   ]
  },
  {
   "cell_type": "markdown",
   "metadata": {},
   "source": [
    "### Saving Data"
   ]
  },
  {
   "cell_type": "code",
   "execution_count": 15,
   "metadata": {},
   "outputs": [
    {
     "data": {
      "text/plain": [
       "'This is SAMPLE TEXT \\n Text is at different regions'"
      ]
     },
     "execution_count": 15,
     "metadata": {},
     "output_type": "execute_result"
    }
   ],
   "source": [
    "data=parse(img_info['text'])\n",
    "file=open('./image_data.txt','a')\n",
    "file.write(data)\n",
    "data"
   ]
  },
  {
   "cell_type": "markdown",
   "metadata": {},
   "source": [
    "# OCR Applications (on Image and Video)\n",
    "- Using OpenCV and Google's tesseract\n",
    "- Practitioner: Debabrata Doloi"
   ]
  },
  {
   "cell_type": "markdown",
   "metadata": {},
   "source": [
    "## 2) ON VIDEO "
   ]
  },
  {
   "cell_type": "markdown",
   "metadata": {},
   "source": [
    "### imports"
   ]
  },
  {
   "cell_type": "code",
   "execution_count": 1,
   "metadata": {},
   "outputs": [],
   "source": [
    "import time  \n",
    "import pandas as pd\n",
    "import cv2\n",
    "import pytesseract\n",
    "\n"
   ]
  },
  {
   "cell_type": "code",
   "execution_count": 2,
   "metadata": {},
   "outputs": [],
   "source": [
    "#defining path to tesseract OCR engine command line executable\n",
    "pytesseract.pytesseract.tesseract_cmd = r\"C:\\Program Files\\Tesseract-OCR\\Tesseract.exe\""
   ]
  },
  {
   "cell_type": "markdown",
   "metadata": {},
   "source": [
    "### Video instance"
   ]
  },
  {
   "cell_type": "code",
   "execution_count": 3,
   "metadata": {},
   "outputs": [],
   "source": [
    "#video=cv2.VideoCapture('video name with path ')\n",
    "\n",
    "video=cv2.VideoCapture('video001.mp4')\n",
    "\n"
   ]
  },
  {
   "cell_type": "markdown",
   "metadata": {},
   "source": [
    "### Defining Parser"
   ]
  },
  {
   "cell_type": "code",
   "execution_count": 4,
   "metadata": {},
   "outputs": [],
   "source": [
    "parsed_data={}\n",
    "def video_parser(time,data):\n",
    "    '''Parse Data'''\n",
    "    if data!='' and time not in parsed_data.keys():\n",
    "        if data not in parsed_data.values():\n",
    "            parsed_data[time]=data\n",
    "\n",
    "def rescale_frame(frame, percent=95):\n",
    "    width = int(frame.shape[1] * percent/ 100)\n",
    "    height = int(frame.shape[0] * percent/ 100)\n",
    "    dim = (width, height)\n",
    "    return cv2.resize(frame, dim, interpolation =cv2.INTER_AREA)\n",
    "def parse(data):\n",
    "    '''Function to parse data from detected text'''\n",
    "    not_nes=['\\\\','/','!','~','`','|','-','=']\n",
    "    parsed=[]\n",
    "    last_word=''\n",
    "    for word in data:\n",
    "        if word!='' and word not in not_nes:\n",
    "            parsed.append(word)\n",
    "            last_word=word\n",
    "\n",
    "    return \" \".join(parsed)           "
   ]
  },
  {
   "cell_type": "markdown",
   "metadata": {},
   "source": [
    "### Extraction"
   ]
  },
  {
   "cell_type": "code",
   "execution_count": 5,
   "metadata": {},
   "outputs": [],
   "source": [
    "custom_config = r'--oem 1 --psm 6' \n",
    "start=time.time()# Start Time\n",
    "\n",
    "while True:\n",
    "    ret,frame=video.read()                               #Getting video frame\n",
    "    now=round(time.time()-start)                         #Getting current time\n",
    "    if ret:\n",
    "        gray_frame=cv2.cvtColor(frame,cv2.COLOR_BGR2GRAY) #Converting to GRAY scale as\n",
    "        binary_frame=cv2.threshold(gray_frame,0,255,cv2.THRESH_OTSU | cv2.THRESH_BINARY_INV)[1] #Performing simple thresholding with OTSU binarization\n",
    "        frame_info=pytesseract.image_to_data(binary_frame,output_type=pytesseract.Output.DICT,config=custom_config,lang='eng')\n",
    "        fm=frame.copy()\n",
    "        total_boxes = len(frame_info['text'])    #length of total no of blocks detected\n",
    "        for sequence_number in range(total_boxes):                                        #Looping through blocks\n",
    "            if float((frame_info['conf'][sequence_number]))>30:                               #if confidence of box being text if greater than 30 (30-40 is optimal limit)\n",
    "                (x, y, w, h) = (frame_info['left'][sequence_number], frame_info['top'][sequence_number], frame_info['width'][sequence_number],  frame_info['height'][sequence_number])  #get the coordinates of confident blocks\n",
    "                fm = cv2.rectangle(fm, (x, y), (x + w, y + h), (0,255, 0), 1)     #Drawing a rectangle box over confident word\n",
    "        parsed=parse(frame_info['text'])\n",
    "        video_parser(now,parsed)\n",
    "        cv2.imshow('identified text ~Exit:esc~',fm)\n",
    "        if cv2.waitKey(1)==27:\n",
    "            break\n",
    "    else:\n",
    "        break\n",
    "        \n",
    "video.release()\n",
    "cv2.destroyAllWindows()"
   ]
  },
  {
   "cell_type": "markdown",
   "metadata": {},
   "source": [
    "### Exporting Data"
   ]
  },
  {
   "cell_type": "code",
   "execution_count": 6,
   "metadata": {},
   "outputs": [
    {
     "data": {
      "text/html": [
       "<div>\n",
       "<style scoped>\n",
       "    .dataframe tbody tr th:only-of-type {\n",
       "        vertical-align: middle;\n",
       "    }\n",
       "\n",
       "    .dataframe tbody tr th {\n",
       "        vertical-align: top;\n",
       "    }\n",
       "\n",
       "    .dataframe thead th {\n",
       "        text-align: right;\n",
       "    }\n",
       "</style>\n",
       "<table border=\"1\" class=\"dataframe\">\n",
       "  <thead>\n",
       "    <tr style=\"text-align: right;\">\n",
       "      <th></th>\n",
       "      <th>Data</th>\n",
       "    </tr>\n",
       "  </thead>\n",
       "  <tbody>\n",
       "    <tr>\n",
       "      <th>0</th>\n",
       "      <td>—&lt;~s</td>\n",
       "    </tr>\n",
       "    <tr>\n",
       "      <th>1</th>\n",
       "      <td>—&lt;s</td>\n",
       "    </tr>\n",
       "    <tr>\n",
       "      <th>2</th>\n",
       "      <td>eld</td>\n",
       "    </tr>\n",
       "    <tr>\n",
       "      <th>3</th>\n",
       "      <td>=} [ele] 5-3)</td>\n",
       "    </tr>\n",
       "    <tr>\n",
       "      <th>4</th>\n",
       "      <td>BIGGEST</td>\n",
       "    </tr>\n",
       "    <tr>\n",
       "      <th>5</th>\n",
       "      <td>MOTION</td>\n",
       "    </tr>\n",
       "    <tr>\n",
       "      <th>6</th>\n",
       "      <td>DESIGN</td>\n",
       "    </tr>\n",
       "    <tr>\n",
       "      <th>7</th>\n",
       "      <td>DESIGN TRENDS</td>\n",
       "    </tr>\n",
       "    <tr>\n",
       "      <th>8</th>\n",
       "      <td>OF</td>\n",
       "    </tr>\n",
       "    <tr>\n",
       "      <th>9</th>\n",
       "      <td>THIS</td>\n",
       "    </tr>\n",
       "    <tr>\n",
       "      <th>10</th>\n",
       "      <td>YEAR</td>\n",
       "    </tr>\n",
       "    <tr>\n",
       "      <th>11</th>\n",
       "      <td>LBS)</td>\n",
       "    </tr>\n",
       "    <tr>\n",
       "      <th>12</th>\n",
       "      <td>FAST</td>\n",
       "    </tr>\n",
       "    <tr>\n",
       "      <th>13</th>\n",
       "      <td>FAST TYPOGRAPHY</td>\n",
       "    </tr>\n",
       "    <tr>\n",
       "      <th>17</th>\n",
       "      <td>FAST TYPOGRAP</td>\n",
       "    </tr>\n",
       "    <tr>\n",
       "      <th>18</th>\n",
       "      <td>)</td>\n",
       "    </tr>\n",
       "    <tr>\n",
       "      <th>19</th>\n",
       "      <td>&amp;X</td>\n",
       "    </tr>\n",
       "    <tr>\n",
       "      <th>20</th>\n",
       "      <td>4</td>\n",
       "    </tr>\n",
       "    <tr>\n",
       "      <th>21</th>\n",
       "      <td>Apple's</td>\n",
       "    </tr>\n",
       "    <tr>\n",
       "      <th>22</th>\n",
       "      <td>Apple's Big</td>\n",
       "    </tr>\n",
       "    <tr>\n",
       "      <th>23</th>\n",
       "      <td>Apple's Big Launch</td>\n",
       "    </tr>\n",
       "    <tr>\n",
       "      <th>24</th>\n",
       "      <td>a Big Launch</td>\n",
       "    </tr>\n",
       "    <tr>\n",
       "      <th>25</th>\n",
       "      <td>in</td>\n",
       "    </tr>\n",
       "    <tr>\n",
       "      <th>26</th>\n",
       "      <td>in 32</td>\n",
       "    </tr>\n",
       "    <tr>\n",
       "      <th>27</th>\n",
       "      <td>in 107</td>\n",
       "    </tr>\n",
       "    <tr>\n",
       "      <th>28</th>\n",
       "      <td>in 107 sec</td>\n",
       "    </tr>\n",
       "    <tr>\n",
       "      <th>29</th>\n",
       "      <td>in 107 seconds</td>\n",
       "    </tr>\n",
       "    <tr>\n",
       "      <th>30</th>\n",
       "      <td>in seconds</td>\n",
       "    </tr>\n",
       "    <tr>\n",
       "      <th>31</th>\n",
       "      <td>Read ?</td>\n",
       "    </tr>\n",
       "    <tr>\n",
       "      <th>32</th>\n",
       "      <td>Ready?</td>\n",
       "    </tr>\n",
       "    <tr>\n",
       "      <th>33</th>\n",
       "      <td>Try</td>\n",
       "    </tr>\n",
       "    <tr>\n",
       "      <th>34</th>\n",
       "      <td>not</td>\n",
       "    </tr>\n",
       "    <tr>\n",
       "      <th>35</th>\n",
       "      <td>blink</td>\n",
       "    </tr>\n",
       "  </tbody>\n",
       "</table>\n",
       "</div>"
      ],
      "text/plain": [
       "                  Data\n",
       "0                 —<~s\n",
       "1                  —<s\n",
       "2                  eld\n",
       "3        =} [ele] 5-3)\n",
       "4              BIGGEST\n",
       "5               MOTION\n",
       "6               DESIGN\n",
       "7        DESIGN TRENDS\n",
       "8                   OF\n",
       "9                 THIS\n",
       "10                YEAR\n",
       "11                LBS)\n",
       "12                FAST\n",
       "13     FAST TYPOGRAPHY\n",
       "17       FAST TYPOGRAP\n",
       "18                   )\n",
       "19                  &X\n",
       "20                   4\n",
       "21             Apple's\n",
       "22         Apple's Big\n",
       "23  Apple's Big Launch\n",
       "24        a Big Launch\n",
       "25                  in\n",
       "26               in 32\n",
       "27              in 107\n",
       "28          in 107 sec\n",
       "29      in 107 seconds\n",
       "30          in seconds\n",
       "31              Read ?\n",
       "32              Ready?\n",
       "33                 Try\n",
       "34                 not\n",
       "35               blink"
      ]
     },
     "execution_count": 6,
     "metadata": {},
     "output_type": "execute_result"
    }
   ],
   "source": [
    "df=pd.DataFrame(parsed_data,index=['Data']).T\n",
    "df"
   ]
  },
  {
   "cell_type": "code",
   "execution_count": 21,
   "metadata": {},
   "outputs": [],
   "source": [
    "df.to_csv('./video_data.csv')"
   ]
  },
  {
   "cell_type": "code",
   "execution_count": 8,
   "metadata": {},
   "outputs": [
    {
     "name": "stdout",
     "output_type": "stream",
     "text": [
      " Data\n",
      " 0 â€”<~s\n",
      " 1 â€”<s\n",
      " 2 THE\n",
      " 3 BIGGEST\n",
      " 4 MOTION\n",
      " 5 DESIGN\n",
      " 7 DESIGN TRENDS\n",
      " 8 OF\n",
      " 9 THIS\n",
      " 10 YEAR\n",
      " 11 LBS)\n",
      " 12 FAST\n",
      " 14 FAST TYPOGRAPHY\n",
      " 18 FAST TYPOGRAP\n",
      " 19 FAS TYPOGR\n",
      " 20 _\n",
      " 21 HE\n",
      " 22 7\n",
      " 23 a Apple's\n",
      " 24 Apple's Big\n",
      " 25 Apple's Big Launch\n",
      " 26 ap Apple's Big Launch\n",
      " 27 Launch\n",
      " 28 in\n",
      " 29 in 107\n",
      " 30 in 107 sec\n",
      " 31 in 107 seconds\n",
      " 33 in seconds\n",
      " 34 Read ?\n",
      " 35 Ready?\n",
      " 36 Try\n",
      " 37 not\n",
      " 38 blink\n",
      "\n"
     ]
    }
   ],
   "source": [
    "\n",
    "# reading csv file\n",
    "text = open(\"video_data.csv\", \"r\")\n",
    "  \n",
    "# joining with space content of text\n",
    "text = ' '.join([i for i in text])  \n",
    "  \n",
    "# replacing ',' by space\n",
    "text = text.replace(\",\", \" \")  \n",
    "  \n",
    "#displaying result\n",
    "print(text)"
   ]
  },
  {
   "cell_type": "code",
   "execution_count": 9,
   "metadata": {},
   "outputs": [
    {
     "data": {
      "text/plain": [
       "\" Data\\n 0 â€”<~s\\n 1 â€”<s\\n 2 THE\\n 3 BIGGEST\\n 4 MOTION\\n 5 DESIGN\\n 7 DESIGN TRENDS\\n 8 OF\\n 9 THIS\\n 10 YEAR\\n 11 LBS)\\n 12 FAST\\n 14 FAST TYPOGRAPHY\\n 18 FAST TYPOGRAP\\n 19 FAS TYPOGR\\n 20 _\\n 21 HE\\n 22 7\\n 23 a Apple's\\n 24 Apple's Big\\n 25 Apple's Big Launch\\n 26 ap Apple's Big Launch\\n 27 Launch\\n 28 in\\n 29 in 107\\n 30 in 107 sec\\n 31 in 107 seconds\\n 33 in seconds\\n 34 Read ?\\n 35 Ready?\\n 36 Try\\n 37 not\\n 38 blink\\n\""
      ]
     },
     "execution_count": 9,
     "metadata": {},
     "output_type": "execute_result"
    }
   ],
   "source": [
    "file=open('./image_data002.txt','a')\n",
    "file.write(text)\n",
    "text"
   ]
  },
  {
   "cell_type": "code",
   "execution_count": null,
   "metadata": {},
   "outputs": [],
   "source": []
  }
 ],
 "metadata": {
  "kernelspec": {
   "display_name": "Python 3 (ipykernel)",
   "language": "python",
   "name": "python3"
  },
  "language_info": {
   "codemirror_mode": {
    "name": "ipython",
    "version": 3
   },
   "file_extension": ".py",
   "mimetype": "text/x-python",
   "name": "python",
   "nbconvert_exporter": "python",
   "pygments_lexer": "ipython3",
   "version": "3.9.7"
  }
 },
 "nbformat": 4,
 "nbformat_minor": 4
}
